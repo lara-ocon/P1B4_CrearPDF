{
 "cells": [
  {
   "cell_type": "markdown",
   "metadata": {},
   "source": [
    "### Practica 1 Bloque 4\n",
    "Lara Ocón Madrid"
   ]
  },
  {
   "cell_type": "code",
   "execution_count": 1,
   "metadata": {},
   "outputs": [],
   "source": [
    "# En esta practica vamos a crear un pdf que sea un reporte ejecutivo para la pizzería Maven Pizzas\n",
    "from xhtml2pdf import pisa"
   ]
  },
  {
   "cell_type": "code",
   "execution_count": 2,
   "metadata": {},
   "outputs": [],
   "source": [
    "def convert_html_to_pdf(source_html, output_filename):\n",
    "    # open output file for writing (truncated binary)\n",
    "    result_file = open(output_filename, \"w+b\")\n",
    "\n",
    "    # convert HTML to PDF\n",
    "    pisa_status = pisa.CreatePDF(\n",
    "        source_html,                # the HTML to convert\n",
    "        dest=result_file)           # file handle to recieve result\n",
    "\n",
    "    # close output file\n",
    "    result_file.close()                 # close output file\n",
    "\n",
    "    # return True on success and False on errors\n",
    "    return pisa_status.err\n"
   ]
  },
  {
   "cell_type": "code",
   "execution_count": 32,
   "metadata": {},
   "outputs": [],
   "source": [
    "# creamos el html\n",
    "html = \"\"\"\n",
    "<!DOCTYPE html>\n",
    "<html>\n",
    "<head>\n",
    "    <title>Reporte ejecutivo</title>\n",
    "</head>\n",
    "<body>\n",
    "    <h1>Práctica 1 Bloque 4 - Adquisición de Datos</h1>\n",
    "    <h2>Lara Ocón Madrid - 202115710</h2>\n",
    "    <h3>Reporte ejecutivo pizzería \"Maven Pizzas\"</h3>\n",
    "    <p>Este es un reporte ejecutivo de la pizzería Maven Pizzas</p>\n",
    "    <p>El reporte contiene información sobre las ventas de la pizzería, las pizzas pedidas por semana, los ingredientes necesitados a la semana, la predicción de ingredientes propuesto para la semana, y la comparación entre dicha predicción y los ingredientes finalmente necesitados.</p>\n",
    "    <p>En primer lugar, mostramos la predicción propuesta de ingredientes necesitados a la semana. Para calcular dicha predicción, hemos calculado la cantidad utilizada de cada ingrediente para cada semana y hemos calculado la media de todas las semanas. Después, hemos multiplicado la media para cada ingrediente por 1.2, factor que hemos elegido para evitar que pueda llegar a haber escasez de un ingrdiente una semana concreta.</p>\n",
    "    <p>A continuación se muestra la predicción de ingredientes propuesta:</p>\n",
    "    <img src=\"imagenes/prediccion_ingredientes.png\" alt=\"Predicción de ingredientes\">\n",
    "    <div style=\"page-break-after: always;\"></div>\n",
    "    <p>A continuación se muestra la comparación entre la predicción de ingredientes y los ingredientes finalmente necesitados:</p>\n",
    "    <img src=\"imagenes/diferencia_prediccion_realidad_ingredientes.png\" alt=\"Comparación de ingredientes\">\n",
    "    <p>Vease el caso del ingrediente \"Garlic\", el mas usado en la pizzería, la diferencia entre la cantidad necesaria propuesta y la cantidad que se ha necesitado de dicho ingrediente en la pizzería a lo largo de las semanas.</p>\n",
    "    <img src=\"imagenes/diferencia_prediccion_realidad_Garlic.png\" alt=\"Comparación de Garlic\">\n",
    "    <div style=\"page-break-after: always;\"></div>\n",
    "    <p>A continuación se muestran las ganancias para cada semana del año:</p>\n",
    "    <img src=\"imagenes/ganancias_semana.png\" alt=\"Ganancias por semana\">\n",
    "    <p>Vease también las ganancias por mes:</p>\n",
    "    <img src=\"imagenes/ganancias_mes.png\" alt=\"Ganancias por mes\">\n",
    "    <div style=\"page-break-after: always;\"></div>\n",
    "</body>\n",
    "</html>\n",
    "\"\"\"\n"
   ]
  },
  {
   "cell_type": "code",
   "execution_count": 33,
   "metadata": {},
   "outputs": [
    {
     "data": {
      "text/plain": [
       "0"
      ]
     },
     "execution_count": 33,
     "metadata": {},
     "output_type": "execute_result"
    }
   ],
   "source": [
    "# pasamos el html a pdf\n",
    "convert_html_to_pdf(html, \"reporte_ejecutivo.pdf\")"
   ]
  }
 ],
 "metadata": {
  "kernelspec": {
   "display_name": "Python 3.9.7 64-bit",
   "language": "python",
   "name": "python3"
  },
  "language_info": {
   "codemirror_mode": {
    "name": "ipython",
    "version": 3
   },
   "file_extension": ".py",
   "mimetype": "text/x-python",
   "name": "python",
   "nbconvert_exporter": "python",
   "pygments_lexer": "ipython3",
   "version": "3.9.7"
  },
  "orig_nbformat": 4,
  "vscode": {
   "interpreter": {
    "hash": "aee8b7b246df8f9039afb4144a1f6fd8d2ca17a180786b69acc140d282b71a49"
   }
  }
 },
 "nbformat": 4,
 "nbformat_minor": 2
}

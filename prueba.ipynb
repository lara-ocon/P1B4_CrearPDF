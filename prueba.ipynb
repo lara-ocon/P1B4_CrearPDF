{
 "cells": [
  {
   "cell_type": "code",
   "execution_count": 1,
   "metadata": {},
   "outputs": [],
   "source": [
    "from xhtml2pdf import pisa             # import python module"
   ]
  },
  {
   "cell_type": "code",
   "execution_count": 2,
   "metadata": {},
   "outputs": [],
   "source": [
    "# Utility function\n",
    "def convert_html_to_pdf(source_html, output_filename):\n",
    "    # open output file for writing (truncated binary)\n",
    "    result_file = open(output_filename, \"w+b\")\n",
    "\n",
    "    # convert HTML to PDF\n",
    "    pisa_status = pisa.CreatePDF(\n",
    "            source_html,                # the HTML to convert\n",
    "            dest=result_file)           # file handle to recieve result\n",
    "\n",
    "    # close output file\n",
    "    result_file.close()                 # close output file\n",
    "\n",
    "    # return True on success and False on errors\n",
    "    return pisa_status.err"
   ]
  },
  {
   "cell_type": "code",
   "execution_count": 3,
   "metadata": {},
   "outputs": [
    {
     "ename": "NameError",
     "evalue": "name 'static_report' is not defined",
     "output_type": "error",
     "traceback": [
      "\u001b[0;31m---------------------------------------------------------------------------\u001b[0m",
      "\u001b[0;31mNameError\u001b[0m                                 Traceback (most recent call last)",
      "\u001b[1;32m/Users/lara/Library/CloudStorage/OneDrive-UniversidadPontificiaComillas/segundo_imat_mac/adquision_datos/Bloque4/prueba.ipynb Celda 3\u001b[0m in \u001b[0;36m<cell line: 1>\u001b[0;34m()\u001b[0m\n\u001b[0;32m----> <a href='vscode-notebook-cell:/Users/lara/Library/CloudStorage/OneDrive-UniversidadPontificiaComillas/segundo_imat_mac/adquision_datos/Bloque4/prueba.ipynb#W2sZmlsZQ%3D%3D?line=0'>1</a>\u001b[0m convert_html_to_pdf(static_report, \u001b[39m'\u001b[39m\u001b[39mreport.pdf\u001b[39m\u001b[39m'\u001b[39m)\n",
      "\u001b[0;31mNameError\u001b[0m: name 'static_report' is not defined"
     ]
    }
   ],
   "source": [
    "# Main program\n",
    "if __name__ == \"__main__\":\n",
    "    pisa.showLogging()\n",
    "    convert_html_to_pdf(source_html, output_filename)"
   ]
  },
  {
   "cell_type": "code",
   "execution_count": null,
   "metadata": {},
   "outputs": [],
   "source": [
    "! open report.pdf"
   ]
  },
  {
   "cell_type": "markdown",
   "metadata": {},
   "source": [
    "### Generating Images on the fly"
   ]
  },
  {
   "cell_type": "code",
   "execution_count": 9,
   "metadata": {},
   "outputs": [],
   "source": [
    "# plotly.plotly is deprecated\n",
    "import chart_studio.plotly as py\n",
    "import base64"
   ]
  },
  {
   "cell_type": "code",
   "execution_count": 11,
   "metadata": {},
   "outputs": [
    {
     "ename": "PlotlyRequestError",
     "evalue": "You must be authenticated to generate an image via json.",
     "output_type": "error",
     "traceback": [
      "\u001b[0;31m---------------------------------------------------------------------------\u001b[0m",
      "\u001b[0;31mPlotlyRequestError\u001b[0m                        Traceback (most recent call last)",
      "\u001b[1;32m/Users/lara/Library/CloudStorage/OneDrive-UniversidadPontificiaComillas/segundo_imat_mac/adquision_datos/Bloque4/prueba.ipynb Celda 7\u001b[0m in \u001b[0;36m<cell line: 18>\u001b[0;34m()\u001b[0m\n\u001b[1;32m     <a href='vscode-notebook-cell:/Users/lara/Library/CloudStorage/OneDrive-UniversidadPontificiaComillas/segundo_imat_mac/adquision_datos/Bloque4/prueba.ipynb#X10sZmlsZQ%3D%3D?line=11'>12</a>\u001b[0m figures \u001b[39m=\u001b[39m [\n\u001b[1;32m     <a href='vscode-notebook-cell:/Users/lara/Library/CloudStorage/OneDrive-UniversidadPontificiaComillas/segundo_imat_mac/adquision_datos/Bloque4/prueba.ipynb#X10sZmlsZQ%3D%3D?line=12'>13</a>\u001b[0m     {\u001b[39m'\u001b[39m\u001b[39mdata\u001b[39m\u001b[39m'\u001b[39m: [{\u001b[39m'\u001b[39m\u001b[39mx\u001b[39m\u001b[39m'\u001b[39m: [\u001b[39m1\u001b[39m,\u001b[39m2\u001b[39m,\u001b[39m3\u001b[39m], \u001b[39m'\u001b[39m\u001b[39my\u001b[39m\u001b[39m'\u001b[39m: [\u001b[39m3\u001b[39m,\u001b[39m1\u001b[39m,\u001b[39m6\u001b[39m]}], \u001b[39m'\u001b[39m\u001b[39mlayout\u001b[39m\u001b[39m'\u001b[39m: {\u001b[39m'\u001b[39m\u001b[39mtitle\u001b[39m\u001b[39m'\u001b[39m: \u001b[39m'\u001b[39m\u001b[39mthe first graph\u001b[39m\u001b[39m'\u001b[39m}},\n\u001b[1;32m     <a href='vscode-notebook-cell:/Users/lara/Library/CloudStorage/OneDrive-UniversidadPontificiaComillas/segundo_imat_mac/adquision_datos/Bloque4/prueba.ipynb#X10sZmlsZQ%3D%3D?line=13'>14</a>\u001b[0m     {\u001b[39m'\u001b[39m\u001b[39mdata\u001b[39m\u001b[39m'\u001b[39m: [{\u001b[39m'\u001b[39m\u001b[39mx\u001b[39m\u001b[39m'\u001b[39m: [\u001b[39m1\u001b[39m,\u001b[39m2\u001b[39m,\u001b[39m3\u001b[39m], \u001b[39m'\u001b[39m\u001b[39my\u001b[39m\u001b[39m'\u001b[39m: [\u001b[39m3\u001b[39m,\u001b[39m7\u001b[39m,\u001b[39m6\u001b[39m], \u001b[39m'\u001b[39m\u001b[39mtype\u001b[39m\u001b[39m'\u001b[39m: \u001b[39m'\u001b[39m\u001b[39mbar\u001b[39m\u001b[39m'\u001b[39m}], \u001b[39m'\u001b[39m\u001b[39mlayout\u001b[39m\u001b[39m'\u001b[39m: {\u001b[39m'\u001b[39m\u001b[39mtitle\u001b[39m\u001b[39m'\u001b[39m: \u001b[39m'\u001b[39m\u001b[39mthe second graph\u001b[39m\u001b[39m'\u001b[39m}}\n\u001b[1;32m     <a href='vscode-notebook-cell:/Users/lara/Library/CloudStorage/OneDrive-UniversidadPontificiaComillas/segundo_imat_mac/adquision_datos/Bloque4/prueba.ipynb#X10sZmlsZQ%3D%3D?line=14'>15</a>\u001b[0m ]\n\u001b[1;32m     <a href='vscode-notebook-cell:/Users/lara/Library/CloudStorage/OneDrive-UniversidadPontificiaComillas/segundo_imat_mac/adquision_datos/Bloque4/prueba.ipynb#X10sZmlsZQ%3D%3D?line=16'>17</a>\u001b[0m \u001b[39m# Generate their images using `py.image.get`\u001b[39;00m\n\u001b[0;32m---> <a href='vscode-notebook-cell:/Users/lara/Library/CloudStorage/OneDrive-UniversidadPontificiaComillas/segundo_imat_mac/adquision_datos/Bloque4/prueba.ipynb#X10sZmlsZQ%3D%3D?line=17'>18</a>\u001b[0m images \u001b[39m=\u001b[39m [base64\u001b[39m.\u001b[39mb64encode(py\u001b[39m.\u001b[39mimage\u001b[39m.\u001b[39mget(figure, width\u001b[39m=\u001b[39mwidth, height\u001b[39m=\u001b[39mheight))\u001b[39m.\u001b[39mdecode(\u001b[39m'\u001b[39m\u001b[39mutf-8\u001b[39m\u001b[39m'\u001b[39m) \u001b[39mfor\u001b[39;00m figure \u001b[39min\u001b[39;00m figures]\n\u001b[1;32m     <a href='vscode-notebook-cell:/Users/lara/Library/CloudStorage/OneDrive-UniversidadPontificiaComillas/segundo_imat_mac/adquision_datos/Bloque4/prueba.ipynb#X10sZmlsZQ%3D%3D?line=19'>20</a>\u001b[0m report_html \u001b[39m=\u001b[39m \u001b[39m'\u001b[39m\u001b[39m'\u001b[39m\n\u001b[1;32m     <a href='vscode-notebook-cell:/Users/lara/Library/CloudStorage/OneDrive-UniversidadPontificiaComillas/segundo_imat_mac/adquision_datos/Bloque4/prueba.ipynb#X10sZmlsZQ%3D%3D?line=20'>21</a>\u001b[0m \u001b[39mfor\u001b[39;00m image \u001b[39min\u001b[39;00m images:\n",
      "\u001b[1;32m/Users/lara/Library/CloudStorage/OneDrive-UniversidadPontificiaComillas/segundo_imat_mac/adquision_datos/Bloque4/prueba.ipynb Celda 7\u001b[0m in \u001b[0;36m<listcomp>\u001b[0;34m(.0)\u001b[0m\n\u001b[1;32m     <a href='vscode-notebook-cell:/Users/lara/Library/CloudStorage/OneDrive-UniversidadPontificiaComillas/segundo_imat_mac/adquision_datos/Bloque4/prueba.ipynb#X10sZmlsZQ%3D%3D?line=11'>12</a>\u001b[0m figures \u001b[39m=\u001b[39m [\n\u001b[1;32m     <a href='vscode-notebook-cell:/Users/lara/Library/CloudStorage/OneDrive-UniversidadPontificiaComillas/segundo_imat_mac/adquision_datos/Bloque4/prueba.ipynb#X10sZmlsZQ%3D%3D?line=12'>13</a>\u001b[0m     {\u001b[39m'\u001b[39m\u001b[39mdata\u001b[39m\u001b[39m'\u001b[39m: [{\u001b[39m'\u001b[39m\u001b[39mx\u001b[39m\u001b[39m'\u001b[39m: [\u001b[39m1\u001b[39m,\u001b[39m2\u001b[39m,\u001b[39m3\u001b[39m], \u001b[39m'\u001b[39m\u001b[39my\u001b[39m\u001b[39m'\u001b[39m: [\u001b[39m3\u001b[39m,\u001b[39m1\u001b[39m,\u001b[39m6\u001b[39m]}], \u001b[39m'\u001b[39m\u001b[39mlayout\u001b[39m\u001b[39m'\u001b[39m: {\u001b[39m'\u001b[39m\u001b[39mtitle\u001b[39m\u001b[39m'\u001b[39m: \u001b[39m'\u001b[39m\u001b[39mthe first graph\u001b[39m\u001b[39m'\u001b[39m}},\n\u001b[1;32m     <a href='vscode-notebook-cell:/Users/lara/Library/CloudStorage/OneDrive-UniversidadPontificiaComillas/segundo_imat_mac/adquision_datos/Bloque4/prueba.ipynb#X10sZmlsZQ%3D%3D?line=13'>14</a>\u001b[0m     {\u001b[39m'\u001b[39m\u001b[39mdata\u001b[39m\u001b[39m'\u001b[39m: [{\u001b[39m'\u001b[39m\u001b[39mx\u001b[39m\u001b[39m'\u001b[39m: [\u001b[39m1\u001b[39m,\u001b[39m2\u001b[39m,\u001b[39m3\u001b[39m], \u001b[39m'\u001b[39m\u001b[39my\u001b[39m\u001b[39m'\u001b[39m: [\u001b[39m3\u001b[39m,\u001b[39m7\u001b[39m,\u001b[39m6\u001b[39m], \u001b[39m'\u001b[39m\u001b[39mtype\u001b[39m\u001b[39m'\u001b[39m: \u001b[39m'\u001b[39m\u001b[39mbar\u001b[39m\u001b[39m'\u001b[39m}], \u001b[39m'\u001b[39m\u001b[39mlayout\u001b[39m\u001b[39m'\u001b[39m: {\u001b[39m'\u001b[39m\u001b[39mtitle\u001b[39m\u001b[39m'\u001b[39m: \u001b[39m'\u001b[39m\u001b[39mthe second graph\u001b[39m\u001b[39m'\u001b[39m}}\n\u001b[1;32m     <a href='vscode-notebook-cell:/Users/lara/Library/CloudStorage/OneDrive-UniversidadPontificiaComillas/segundo_imat_mac/adquision_datos/Bloque4/prueba.ipynb#X10sZmlsZQ%3D%3D?line=14'>15</a>\u001b[0m ]\n\u001b[1;32m     <a href='vscode-notebook-cell:/Users/lara/Library/CloudStorage/OneDrive-UniversidadPontificiaComillas/segundo_imat_mac/adquision_datos/Bloque4/prueba.ipynb#X10sZmlsZQ%3D%3D?line=16'>17</a>\u001b[0m \u001b[39m# Generate their images using `py.image.get`\u001b[39;00m\n\u001b[0;32m---> <a href='vscode-notebook-cell:/Users/lara/Library/CloudStorage/OneDrive-UniversidadPontificiaComillas/segundo_imat_mac/adquision_datos/Bloque4/prueba.ipynb#X10sZmlsZQ%3D%3D?line=17'>18</a>\u001b[0m images \u001b[39m=\u001b[39m [base64\u001b[39m.\u001b[39mb64encode(py\u001b[39m.\u001b[39;49mimage\u001b[39m.\u001b[39;49mget(figure, width\u001b[39m=\u001b[39;49mwidth, height\u001b[39m=\u001b[39;49mheight))\u001b[39m.\u001b[39mdecode(\u001b[39m'\u001b[39m\u001b[39mutf-8\u001b[39m\u001b[39m'\u001b[39m) \u001b[39mfor\u001b[39;00m figure \u001b[39min\u001b[39;00m figures]\n\u001b[1;32m     <a href='vscode-notebook-cell:/Users/lara/Library/CloudStorage/OneDrive-UniversidadPontificiaComillas/segundo_imat_mac/adquision_datos/Bloque4/prueba.ipynb#X10sZmlsZQ%3D%3D?line=19'>20</a>\u001b[0m report_html \u001b[39m=\u001b[39m \u001b[39m'\u001b[39m\u001b[39m'\u001b[39m\n\u001b[1;32m     <a href='vscode-notebook-cell:/Users/lara/Library/CloudStorage/OneDrive-UniversidadPontificiaComillas/segundo_imat_mac/adquision_datos/Bloque4/prueba.ipynb#X10sZmlsZQ%3D%3D?line=20'>21</a>\u001b[0m \u001b[39mfor\u001b[39;00m image \u001b[39min\u001b[39;00m images:\n",
      "File \u001b[0;32m/Library/Frameworks/Python.framework/Versions/3.9/lib/python3.9/site-packages/chart_studio/plotly/plotly.py:819\u001b[0m, in \u001b[0;36mimage.get\u001b[0;34m(figure_or_data, format, width, height, scale)\u001b[0m\n\u001b[1;32m    816\u001b[0m \u001b[39mif\u001b[39;00m scale \u001b[39mis\u001b[39;00m \u001b[39mnot\u001b[39;00m \u001b[39mNone\u001b[39;00m:\n\u001b[1;32m    817\u001b[0m     payload[\u001b[39m\"\u001b[39m\u001b[39mscale\u001b[39m\u001b[39m\"\u001b[39m] \u001b[39m=\u001b[39m scale\n\u001b[0;32m--> 819\u001b[0m response \u001b[39m=\u001b[39m v2\u001b[39m.\u001b[39;49mimages\u001b[39m.\u001b[39;49mcreate(payload)\n\u001b[1;32m    821\u001b[0m headers \u001b[39m=\u001b[39m response\u001b[39m.\u001b[39mheaders\n\u001b[1;32m    822\u001b[0m \u001b[39mif\u001b[39;00m \u001b[39m\"\u001b[39m\u001b[39mcontent-type\u001b[39m\u001b[39m\"\u001b[39m \u001b[39min\u001b[39;00m headers \u001b[39mand\u001b[39;00m headers[\u001b[39m\"\u001b[39m\u001b[39mcontent-type\u001b[39m\u001b[39m\"\u001b[39m] \u001b[39min\u001b[39;00m [\n\u001b[1;32m    823\u001b[0m     \u001b[39m\"\u001b[39m\u001b[39mimage/png\u001b[39m\u001b[39m\"\u001b[39m,\n\u001b[1;32m    824\u001b[0m     \u001b[39m\"\u001b[39m\u001b[39mimage/jpeg\u001b[39m\u001b[39m\"\u001b[39m,\n\u001b[0;32m   (...)\u001b[0m\n\u001b[1;32m    827\u001b[0m     \u001b[39m\"\u001b[39m\u001b[39mimage/emf\u001b[39m\u001b[39m\"\u001b[39m,\n\u001b[1;32m    828\u001b[0m ]:\n",
      "File \u001b[0;32m/Library/Frameworks/Python.framework/Versions/3.9/lib/python3.9/site-packages/chart_studio/api/v2/images.py:18\u001b[0m, in \u001b[0;36mcreate\u001b[0;34m(body)\u001b[0m\n\u001b[1;32m     10\u001b[0m \u001b[39m\"\"\"\u001b[39;00m\n\u001b[1;32m     11\u001b[0m \u001b[39mGenerate an image (which does not get saved on Plotly).\u001b[39;00m\n\u001b[1;32m     12\u001b[0m \n\u001b[0;32m   (...)\u001b[0m\n\u001b[1;32m     15\u001b[0m \n\u001b[1;32m     16\u001b[0m \u001b[39m\"\"\"\u001b[39;00m\n\u001b[1;32m     17\u001b[0m url \u001b[39m=\u001b[39m build_url(RESOURCE)\n\u001b[0;32m---> 18\u001b[0m \u001b[39mreturn\u001b[39;00m request(\u001b[39m\"\u001b[39;49m\u001b[39mpost\u001b[39;49m\u001b[39m\"\u001b[39;49m, url, json\u001b[39m=\u001b[39;49mbody)\n",
      "File \u001b[0;32m/Library/Frameworks/Python.framework/Versions/3.9/lib/python3.9/site-packages/retrying.py:49\u001b[0m, in \u001b[0;36mretry.<locals>.wrap.<locals>.wrapped_f\u001b[0;34m(*args, **kw)\u001b[0m\n\u001b[1;32m     47\u001b[0m \u001b[39m@six\u001b[39m\u001b[39m.\u001b[39mwraps(f)\n\u001b[1;32m     48\u001b[0m \u001b[39mdef\u001b[39;00m \u001b[39mwrapped_f\u001b[39m(\u001b[39m*\u001b[39margs, \u001b[39m*\u001b[39m\u001b[39m*\u001b[39mkw):\n\u001b[0;32m---> 49\u001b[0m     \u001b[39mreturn\u001b[39;00m Retrying(\u001b[39m*\u001b[39;49mdargs, \u001b[39m*\u001b[39;49m\u001b[39m*\u001b[39;49mdkw)\u001b[39m.\u001b[39;49mcall(f, \u001b[39m*\u001b[39;49margs, \u001b[39m*\u001b[39;49m\u001b[39m*\u001b[39;49mkw)\n",
      "File \u001b[0;32m/Library/Frameworks/Python.framework/Versions/3.9/lib/python3.9/site-packages/retrying.py:206\u001b[0m, in \u001b[0;36mRetrying.call\u001b[0;34m(self, fn, *args, **kwargs)\u001b[0m\n\u001b[1;32m    203\u001b[0m     attempt \u001b[39m=\u001b[39m Attempt(tb, attempt_number, \u001b[39mTrue\u001b[39;00m)\n\u001b[1;32m    205\u001b[0m \u001b[39mif\u001b[39;00m \u001b[39mnot\u001b[39;00m \u001b[39mself\u001b[39m\u001b[39m.\u001b[39mshould_reject(attempt):\n\u001b[0;32m--> 206\u001b[0m     \u001b[39mreturn\u001b[39;00m attempt\u001b[39m.\u001b[39;49mget(\u001b[39mself\u001b[39;49m\u001b[39m.\u001b[39;49m_wrap_exception)\n\u001b[1;32m    208\u001b[0m delay_since_first_attempt_ms \u001b[39m=\u001b[39m \u001b[39mint\u001b[39m(\u001b[39mround\u001b[39m(time\u001b[39m.\u001b[39mtime() \u001b[39m*\u001b[39m \u001b[39m1000\u001b[39m)) \u001b[39m-\u001b[39m start_time\n\u001b[1;32m    209\u001b[0m \u001b[39mif\u001b[39;00m \u001b[39mself\u001b[39m\u001b[39m.\u001b[39mstop(attempt_number, delay_since_first_attempt_ms):\n",
      "File \u001b[0;32m/Library/Frameworks/Python.framework/Versions/3.9/lib/python3.9/site-packages/retrying.py:247\u001b[0m, in \u001b[0;36mAttempt.get\u001b[0;34m(self, wrap_exception)\u001b[0m\n\u001b[1;32m    245\u001b[0m         \u001b[39mraise\u001b[39;00m RetryError(\u001b[39mself\u001b[39m)\n\u001b[1;32m    246\u001b[0m     \u001b[39melse\u001b[39;00m:\n\u001b[0;32m--> 247\u001b[0m         six\u001b[39m.\u001b[39;49mreraise(\u001b[39mself\u001b[39;49m\u001b[39m.\u001b[39;49mvalue[\u001b[39m0\u001b[39;49m], \u001b[39mself\u001b[39;49m\u001b[39m.\u001b[39;49mvalue[\u001b[39m1\u001b[39;49m], \u001b[39mself\u001b[39;49m\u001b[39m.\u001b[39;49mvalue[\u001b[39m2\u001b[39;49m])\n\u001b[1;32m    248\u001b[0m \u001b[39melse\u001b[39;00m:\n\u001b[1;32m    249\u001b[0m     \u001b[39mreturn\u001b[39;00m \u001b[39mself\u001b[39m\u001b[39m.\u001b[39mvalue\n",
      "File \u001b[0;32m/Library/Frameworks/Python.framework/Versions/3.9/lib/python3.9/site-packages/six.py:719\u001b[0m, in \u001b[0;36mreraise\u001b[0;34m(tp, value, tb)\u001b[0m\n\u001b[1;32m    717\u001b[0m     \u001b[39mif\u001b[39;00m value\u001b[39m.\u001b[39m__traceback__ \u001b[39mis\u001b[39;00m \u001b[39mnot\u001b[39;00m tb:\n\u001b[1;32m    718\u001b[0m         \u001b[39mraise\u001b[39;00m value\u001b[39m.\u001b[39mwith_traceback(tb)\n\u001b[0;32m--> 719\u001b[0m     \u001b[39mraise\u001b[39;00m value\n\u001b[1;32m    720\u001b[0m \u001b[39mfinally\u001b[39;00m:\n\u001b[1;32m    721\u001b[0m     value \u001b[39m=\u001b[39m \u001b[39mNone\u001b[39;00m\n",
      "File \u001b[0;32m/Library/Frameworks/Python.framework/Versions/3.9/lib/python3.9/site-packages/retrying.py:200\u001b[0m, in \u001b[0;36mRetrying.call\u001b[0;34m(self, fn, *args, **kwargs)\u001b[0m\n\u001b[1;32m    198\u001b[0m \u001b[39mwhile\u001b[39;00m \u001b[39mTrue\u001b[39;00m:\n\u001b[1;32m    199\u001b[0m     \u001b[39mtry\u001b[39;00m:\n\u001b[0;32m--> 200\u001b[0m         attempt \u001b[39m=\u001b[39m Attempt(fn(\u001b[39m*\u001b[39;49margs, \u001b[39m*\u001b[39;49m\u001b[39m*\u001b[39;49mkwargs), attempt_number, \u001b[39mFalse\u001b[39;00m)\n\u001b[1;32m    201\u001b[0m     \u001b[39mexcept\u001b[39;00m:\n\u001b[1;32m    202\u001b[0m         tb \u001b[39m=\u001b[39m sys\u001b[39m.\u001b[39mexc_info()\n",
      "File \u001b[0;32m/Library/Frameworks/Python.framework/Versions/3.9/lib/python3.9/site-packages/chart_studio/api/v2/utils.py:180\u001b[0m, in \u001b[0;36mrequest\u001b[0;34m(method, url, **kwargs)\u001b[0m\n\u001b[1;32m    178\u001b[0m     content \u001b[39m=\u001b[39m response\u001b[39m.\u001b[39mcontent \u001b[39mif\u001b[39;00m response \u001b[39melse\u001b[39;00m \u001b[39m\"\u001b[39m\u001b[39mNo content\u001b[39m\u001b[39m\"\u001b[39m\n\u001b[1;32m    179\u001b[0m     \u001b[39mraise\u001b[39;00m exceptions\u001b[39m.\u001b[39mPlotlyRequestError(message, status_code, content)\n\u001b[0;32m--> 180\u001b[0m validate_response(response)\n\u001b[1;32m    181\u001b[0m \u001b[39mreturn\u001b[39;00m response\n",
      "File \u001b[0;32m/Library/Frameworks/Python.framework/Versions/3.9/lib/python3.9/site-packages/chart_studio/api/v2/utils.py:82\u001b[0m, in \u001b[0;36mvalidate_response\u001b[0;34m(response)\u001b[0m\n\u001b[1;32m     79\u001b[0m \u001b[39mif\u001b[39;00m \u001b[39mnot\u001b[39;00m message:\n\u001b[1;32m     80\u001b[0m     message \u001b[39m=\u001b[39m content \u001b[39mif\u001b[39;00m content \u001b[39melse\u001b[39;00m \u001b[39m\"\u001b[39m\u001b[39mNo Content\u001b[39m\u001b[39m\"\u001b[39m\n\u001b[0;32m---> 82\u001b[0m \u001b[39mraise\u001b[39;00m exceptions\u001b[39m.\u001b[39mPlotlyRequestError(message, status_code, content)\n",
      "\u001b[0;31mPlotlyRequestError\u001b[0m: You must be authenticated to generate an image via json."
     ]
    }
   ],
   "source": [
    "width = 600\n",
    "height = 600\n",
    "\n",
    "template = (''\n",
    "    '<img style=\"width: {width}; height: {height}\" src=\"data:image/png;base64,{image}\">'\n",
    "    '{caption}'                              # Optional caption to include below the graph\n",
    "    '<br>'\n",
    "    '<hr>'\n",
    "'')\n",
    "\n",
    "# A collection of Plotly graphs\n",
    "figures = [\n",
    "    {'data': [{'x': [1,2,3], 'y': [3,1,6]}], 'layout': {'title': 'the first graph'}},\n",
    "    {'data': [{'x': [1,2,3], 'y': [3,7,6], 'type': 'bar'}], 'layout': {'title': 'the second graph'}}\n",
    "]\n",
    "\n",
    "# Generate their images using `py.image.get`\n",
    "images = [base64.b64encode(py.image.get(figure, width=width, height=height)).decode('utf-8') for figure in figures]\n",
    "\n",
    "report_html = ''\n",
    "for image in images:\n",
    "    _ = template\n",
    "    _ = _.format(image=image, caption='', width=width, height=height)\n",
    "    report_html += _\n",
    "\n",
    "display(HTML(report_html))\n",
    "convert_html_to_pdf(report_html, 'report-2.pdf')"
   ]
  }
 ],
 "metadata": {
  "kernelspec": {
   "display_name": "Python 3.9.7 64-bit",
   "language": "python",
   "name": "python3"
  },
  "language_info": {
   "codemirror_mode": {
    "name": "ipython",
    "version": 3
   },
   "file_extension": ".py",
   "mimetype": "text/x-python",
   "name": "python",
   "nbconvert_exporter": "python",
   "pygments_lexer": "ipython3",
   "version": "3.9.7"
  },
  "orig_nbformat": 4,
  "vscode": {
   "interpreter": {
    "hash": "aee8b7b246df8f9039afb4144a1f6fd8d2ca17a180786b69acc140d282b71a49"
   }
  }
 },
 "nbformat": 4,
 "nbformat_minor": 2
}
